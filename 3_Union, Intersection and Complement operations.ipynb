{
 "cells": [
  {
   "cell_type": "code",
   "execution_count": 1,
   "metadata": {},
   "outputs": [
    {
     "name": "stdout",
     "output_type": "stream",
     "text": [
      "A={'a': 0.5, 'b': 0.3} UNION B={'a': 0.5, 'b': 0.1} Is {'a': 0.5, 'b': 0.3}\n",
      "A={'a': 0.5, 'b': 0.3} Intersection B={'a': 0.5, 'b': 0.1} Is {'a': 0.5, 'b': 0.1}\n",
      "COMPLIMENT OF A={'a': 0.5, 'b': 0.3} IS {'a': 0.5, 'b': 0.7}\n",
      "COMPLIMENT OF B={'a': 0.5, 'b': 0.1} IS {'a': 0.5, 'b': 0.9}\n"
     ]
    }
   ],
   "source": [
    "Z = {}\n",
    "\n",
    "def union(A, B):\n",
    "    for x in A and B:\n",
    "        Z[x] = max(A[x], B[x])\n",
    "    return Z\n",
    "\n",
    "def intersection(A, B):\n",
    "    for x in A and B:\n",
    "        Z[x] = min(A[x], B[x])\n",
    "    return Z\n",
    "\n",
    "def complement(X):\n",
    "    for x in X:\n",
    "        Z[x] = round(1 - X[x], 2)\n",
    "    return Z\n",
    "\n",
    "def get_membership_value(key):\n",
    "    while True:\n",
    "        value = float(input(\"Enter the Membership value (between 0 and 1) for \" + key))\n",
    "        if 0 <= value <= 1:\n",
    "            return value\n",
    "        else:\n",
    "            print(\"Invalid input. Please enter a value between 0 and 1.\")\n",
    "\n",
    "A = {}\n",
    "B = {}\n",
    "\n",
    "no_items = int(input(\"Enter the numbers: \"))\n",
    "for _ in range(no_items):\n",
    "    key = input(\"Enter the crispy set elements: \")\n",
    "    value = get_membership_value(key)\n",
    "    A[key] = value\n",
    "    value = get_membership_value(key)\n",
    "    B[key] = value\n",
    "\n",
    "print(f\"{A=} UNION {B=} Is {union(A, B)}\")\n",
    "print(f\"{A=} Intersection {B=} Is {intersection(A, B)}\")\n",
    "print(f\"COMPLIMENT OF {A=} IS {complement(A)}\")\n",
    "print(f\"COMPLIMENT OF {B=} IS {complement(B)}\")\n"
   ]
  }
 ],
 "metadata": {
  "kernelspec": {
   "display_name": "Python 3",
   "language": "python",
   "name": "python3"
  },
  "language_info": {
   "codemirror_mode": {
    "name": "ipython",
    "version": 3
   },
   "file_extension": ".py",
   "mimetype": "text/x-python",
   "name": "python",
   "nbconvert_exporter": "python",
   "pygments_lexer": "ipython3",
   "version": "3.10.12"
  },
  "orig_nbformat": 4
 },
 "nbformat": 4,
 "nbformat_minor": 2
}
