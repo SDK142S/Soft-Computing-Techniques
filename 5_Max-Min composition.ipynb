{
 "cells": [
  {
   "cell_type": "code",
   "execution_count": 1,
   "metadata": {},
   "outputs": [
    {
     "name": "stdout",
     "output_type": "stream",
     "text": [
      "Result of Max-min Composition:\n",
      "[[0.7 0.6 0.6]\n",
      " [0.8 0.3 0.4]]\n"
     ]
    }
   ],
   "source": [
    "import numpy as np\n",
    "\n",
    "def max_min_composition(R, S):\n",
    "    result = np.zeros((R.shape[0], S.shape[1]))\n",
    "    for i in range(R.shape[0]):\n",
    "        for j in range(S.shape[1]):\n",
    "            max_min = 0\n",
    "            for k in range(R.shape[1]):\n",
    "                max_min = max(max_min, min(R[i, k], S[k, j]))\n",
    "            result[i, j] = max_min\n",
    "    return result\n",
    "\n",
    "R = np.array([[0.7, 0.6], [0.8, 0.3]])\n",
    "S = np.array([[0.8, 0.1, 0.4], [0.5, 0.6, 0.7]])\n",
    "result = max_min_composition(R, S)\n",
    "\n",
    "print(\"Result of Max-min Composition:\")\n",
    "print(result)\n"
   ]
  },
  {
   "cell_type": "code",
   "execution_count": 2,
   "metadata": {},
   "outputs": [
    {
     "name": "stdout",
     "output_type": "stream",
     "text": [
      "Result of Max-min Composition:\n",
      "[[0.7 0.6 0.6]\n",
      " [0.8 0.3 0.4]]\n"
     ]
    }
   ],
   "source": [
    "import numpy as np\n",
    "\n",
    "def max_min_composition(R, S):\n",
    "    result = np.zeros((R.shape[0], S.shape[1]))\n",
    "    for i in range(R.shape[0]):\n",
    "        for j in range(S.shape[1]):\n",
    "            max_min = 0\n",
    "            for k in range(R.shape[1]):\n",
    "                max_min = max(max_min, min(R[i, k], S[k, j]))\n",
    "            result[i, j] = max_min\n",
    "    return result\n",
    "\n",
    "# Take array values from the user\n",
    "rows_R = int(input(\"Enter the number of rows for matrix R: \"))\n",
    "cols_R = int(input(\"Enter the number of columns for matrix R: \"))\n",
    "R = np.zeros((rows_R, cols_R))\n",
    "for i in range(rows_R):\n",
    "    for j in range(cols_R):\n",
    "        R[i, j] = float(input(f\"Enter the value for R[{i}][{j}]: \"))\n",
    "\n",
    "rows_S = int(input(\"Enter the number of rows for matrix S: \"))\n",
    "cols_S = int(input(\"Enter the number of columns for matrix S: \"))\n",
    "S = np.zeros((rows_S, cols_S))\n",
    "for i in range(rows_S):\n",
    "    for j in range(cols_S):\n",
    "        S[i, j] = float(input(f\"Enter the value for S[{i}][{j}]: \"))\n",
    "\n",
    "# Perform max-min composition\n",
    "result = max_min_composition(R, S)\n",
    "\n",
    "# Print the result\n",
    "print(\"Result of Max-min Composition:\")\n",
    "print(result)\n"
   ]
  }
 ],
 "metadata": {
  "kernelspec": {
   "display_name": "Python 3",
   "language": "python",
   "name": "python3"
  },
  "language_info": {
   "codemirror_mode": {
    "name": "ipython",
    "version": 3
   },
   "file_extension": ".py",
   "mimetype": "text/x-python",
   "name": "python",
   "nbconvert_exporter": "python",
   "pygments_lexer": "ipython3",
   "version": "3.10.12"
  },
  "orig_nbformat": 4
 },
 "nbformat": 4,
 "nbformat_minor": 2
}
