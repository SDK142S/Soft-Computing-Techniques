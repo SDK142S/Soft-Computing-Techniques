{
 "cells": [
  {
   "cell_type": "code",
   "execution_count": 5,
   "metadata": {},
   "outputs": [
    {
     "name": "stdout",
     "output_type": "stream",
     "text": [
      "Model: \"sequential_2\"\n",
      "_________________________________________________________________\n",
      " Layer (type)                Output Shape              Param #   \n",
      "=================================================================\n",
      " dense_6 (Dense)             (None, 64)                704       \n",
      "                                                                 \n",
      " dense_7 (Dense)             (None, 32)                2080      \n",
      "                                                                 \n",
      " dense_8 (Dense)             (None, 2)                 66        \n",
      "                                                                 \n",
      "=================================================================\n",
      "Total params: 2850 (11.13 KB)\n",
      "Trainable params: 2850 (11.13 KB)\n",
      "Non-trainable params: 0 (0.00 Byte)\n",
      "_________________________________________________________________\n"
     ]
    }
   ],
   "source": [
    "#1. Write a Program to implement Multiple Perceptron Model.\n",
    "\n",
    "import tensorflow as tf\n",
    "from tensorflow.keras import layers, models\n",
    "\n",
    "# Define the MLP model\n",
    "def create_mlp(input_size, hidden_sizes, output_size):\n",
    "    model = models.Sequential()\n",
    "    model.add(layers.InputLayer(input_shape=(input_size,)))\n",
    "    \n",
    "    for hidden_size in hidden_sizes:\n",
    "        model.add(layers.Dense(hidden_size, activation='relu'))\n",
    "    \n",
    "    model.add(layers.Dense(output_size, activation='softmax'))\n",
    "    \n",
    "    return model\n",
    "\n",
    "# Example usage\n",
    "if __name__ == \"__main__\":\n",
    "    # Define the model architecture\n",
    "    input_size = 10\n",
    "    hidden_sizes = [64, 32]\n",
    "    output_size = 2\n",
    "    \n",
    "    # Create the MLP model\n",
    "    mlp_model = create_mlp(input_size, hidden_sizes, output_size)\n",
    "    \n",
    "    # Display the model summary\n",
    "    mlp_model.summary()\n"
   ]
  }
 ],
 "metadata": {
  "kernelspec": {
   "display_name": "Python 3",
   "language": "python",
   "name": "python3"
  },
  "language_info": {
   "codemirror_mode": {
    "name": "ipython",
    "version": 3
   },
   "file_extension": ".py",
   "mimetype": "text/x-python",
   "name": "python",
   "nbconvert_exporter": "python",
   "pygments_lexer": "ipython3",
   "version": "3.10.12"
  },
  "orig_nbformat": 4
 },
 "nbformat": 4,
 "nbformat_minor": 2
}
