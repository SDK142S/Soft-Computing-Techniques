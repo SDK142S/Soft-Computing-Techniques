{
 "cells": [
  {
   "cell_type": "code",
   "execution_count": 3,
   "metadata": {},
   "outputs": [
    {
     "name": "stdout",
     "output_type": "stream",
     "text": [
      "Fuzzy sets given A={'a': 0.3, 'b': 0.3} and B={'a': 0.5, 'b': 0.5}\n",
      "DeMorgans is proved \n",
      " Since {'a': 0.5, 'b': 0.5} = {'a': 0.5, 'b': 0.5}\n"
     ]
    }
   ],
   "source": [
    "Z = {}\n",
    "\n",
    "def union(A, B):\n",
    "    for x in A and B:\n",
    "        Z[x] = max(A[x], B[x])\n",
    "    return Z\n",
    "\n",
    "def compliment(X):\n",
    "    for x in X:\n",
    "        Z[x] = round(1 - X[x], 2)\n",
    "    return Z\n",
    "\n",
    "\n",
    "def get_membership_value(key):\n",
    "    while True:\n",
    "        value = float(input(\"Enter the Membership value (between 0 and 1) for \" + key))\n",
    "        if 0 <= value <= 1:\n",
    "            return value\n",
    "        else:\n",
    "            print(\"Invalid input. Please enter a value between 0 and 1.\")\n",
    "\n",
    "A = {}\n",
    "B = {}\n",
    "\n",
    "no_items = int(input(\"Enter the numbers: \"))\n",
    "for _ in range(no_items):\n",
    "    key = input(\"Enter the crispy set elements: \")\n",
    "    value = get_membership_value(key)\n",
    "    A[key] = value\n",
    "    value = get_membership_value(key)\n",
    "    B[key] = value\n",
    "\n",
    "LHS = compliment(union(A, B))\n",
    "RHS = union(compliment(A), compliment(B))\n",
    "\n",
    "print(f\"Fuzzy sets given {A=} and {B=}\")\n",
    "if LHS == RHS:\n",
    "    print(f\"DeMorgans is proved \\n Since {LHS} = {RHS}\")\n"
   ]
  }
 ],
 "metadata": {
  "kernelspec": {
   "display_name": "Python 3",
   "language": "python",
   "name": "python3"
  },
  "language_info": {
   "codemirror_mode": {
    "name": "ipython",
    "version": 3
   },
   "file_extension": ".py",
   "mimetype": "text/x-python",
   "name": "python",
   "nbconvert_exporter": "python",
   "pygments_lexer": "ipython3",
   "version": "3.10.12"
  },
  "orig_nbformat": 4
 },
 "nbformat": 4,
 "nbformat_minor": 2
}
