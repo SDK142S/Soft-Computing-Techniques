{
 "cells": [
  {
   "cell_type": "code",
   "execution_count": 3,
   "metadata": {},
   "outputs": [
    {
     "name": "stdout",
     "output_type": "stream",
     "text": [
      "Optimal x: -11.622992632577049\n",
      "Optimal f(x): 135.09395773694035\n"
     ]
    }
   ],
   "source": [
    "#8. Write a program for Genetic algorithm to maximize f(x)=x2\n",
    "\n",
    "import numpy as np\n",
    "\n",
    "# Define the objective function to maximize\n",
    "def objective_function(x):\n",
    "    return x**2\n",
    "\n",
    "# Genetic Algorithm parameters\n",
    "population_size = 50\n",
    "generations = 100\n",
    "mutation_rate = 0.1\n",
    "\n",
    "# Initialization: Generate a random population\n",
    "population = np.random.uniform(-10, 10, size=population_size)\n",
    "\n",
    "# Main loop\n",
    "for generation in range(generations):\n",
    "    # Evaluate the fitness of each individual in the population\n",
    "    fitness = objective_function(population)\n",
    "\n",
    "    # Select the top individuals based on fitness\n",
    "    sorted_indices = np.argsort(fitness)[::-1]\n",
    "    selected_population = population[sorted_indices[:population_size]]\n",
    "\n",
    "    # Crossover: Create new individuals by combining pairs of selected individuals\n",
    "    crossover_population = np.random.choice(selected_population, size=population_size)\n",
    "\n",
    "    # Mutation: Introduce random changes to some individuals\n",
    "    mutation_mask = np.random.rand(population_size) < mutation_rate\n",
    "    mutation_population = np.random.uniform(-1, 1, size=population_size)\n",
    "    crossover_population[mutation_mask] += mutation_population[mutation_mask]\n",
    "\n",
    "    # Replace the old population with the new one\n",
    "    population = crossover_population\n",
    "\n",
    "# Find the best individual in the final population\n",
    "best_individual_index = np.argmax(objective_function(population))\n",
    "best_x = population[best_individual_index]\n",
    "\n",
    "# Print the result\n",
    "print(f\"Optimal x: {best_x}\")\n",
    "print(f\"Optimal f(x): {objective_function(best_x)}\")\n"
   ]
  },
  {
   "cell_type": "code",
   "execution_count": 2,
   "metadata": {},
   "outputs": [
    {
     "name": "stdout",
     "output_type": "stream",
     "text": [
      "Optimal x: -12.072142822694657\n",
      "Optimal f(x): 145.73663233153812\n"
     ]
    }
   ],
   "source": [
    "import numpy as np\n",
    "\n",
    "# Define the objective function to maximize\n",
    "def objective_function(x):\n",
    "    return x**2\n",
    "\n",
    "# Genetic Algorithm parameters\n",
    "population_size = 50\n",
    "generations = 100\n",
    "mutation_rate = 0.1\n",
    "\n",
    "# Initialization: Generate a random population\n",
    "population = np.random.uniform(-10, 10, size=population_size)\n",
    "\n",
    "# Main loop\n",
    "for generation in range(generations):\n",
    "    # Evaluate the fitness of each individual in the population\n",
    "    fitness = objective_function(population)\n",
    "\n",
    "    # Select the top individuals based on fitness\n",
    "    selected_population = population[np.argsort(fitness)[::-1][:population_size]]\n",
    "\n",
    "    # Crossover: Create new individuals by combining pairs of selected individuals\n",
    "    crossover_population = np.random.choice(selected_population, size=population_size)\n",
    "\n",
    "    # Mutation: Introduce random changes to some individuals\n",
    "    mutation_mask = np.random.rand(population_size) < mutation_rate\n",
    "    crossover_population[mutation_mask] += np.random.uniform(-1, 1, size=population_size)[mutation_mask]\n",
    "\n",
    "    # Replace the old population with the new one\n",
    "    population = crossover_population\n",
    "\n",
    "# Find the best individual in the final population\n",
    "best_individual_index = np.argmax(objective_function(population))\n",
    "best_x = population[best_individual_index]\n",
    "\n",
    "# Print the result\n",
    "print(f\"Optimal x: {best_x}\")\n",
    "print(f\"Optimal f(x): {objective_function(best_x)}\")\n"
   ]
  }
 ],
 "metadata": {
  "kernelspec": {
   "display_name": "Python 3",
   "language": "python",
   "name": "python3"
  },
  "language_info": {
   "codemirror_mode": {
    "name": "ipython",
    "version": 3
   },
   "file_extension": ".py",
   "mimetype": "text/x-python",
   "name": "python",
   "nbconvert_exporter": "python",
   "pygments_lexer": "ipython3",
   "version": "3.10.12"
  },
  "orig_nbformat": 4
 },
 "nbformat": 4,
 "nbformat_minor": 2
}
